{
 "cells": [
  {
   "cell_type": "code",
   "execution_count": 3,
   "metadata": {},
   "outputs": [],
   "source": [
    "import fastf1 as ff1\n",
    "import pandas as pd\n",
    "    "
   ]
  },
  {
   "cell_type": "code",
   "execution_count": 4,
   "metadata": {},
   "outputs": [
    {
     "name": "stdout",
     "output_type": "stream",
     "text": [
      "Requirement already satisfied: fastf1 in c:\\users\\mxnojbe\\anaconda3\\lib\\site-packages (2.3.0)\n",
      "Requirement already satisfied: signalr-client-aio in c:\\users\\mxnojbe\\anaconda3\\lib\\site-packages (from fastf1) (0.0.1.6.2)\n",
      "Requirement already satisfied: requests-cache>=0.8.0 in c:\\users\\mxnojbe\\anaconda3\\lib\\site-packages (from fastf1) (0.9.6)\n",
      "Requirement already satisfied: scipy in c:\\users\\mxnojbe\\anaconda3\\lib\\site-packages (from fastf1) (1.7.1)\n",
      "Requirement already satisfied: matplotlib>=3.3.3 in c:\\users\\mxnojbe\\anaconda3\\lib\\site-packages (from fastf1) (3.4.3)\n",
      "Requirement already satisfied: numpy>=1.17.3 in c:\\users\\mxnojbe\\anaconda3\\lib\\site-packages (from fastf1) (1.20.3)\n",
      "Requirement already satisfied: pandas>=1.1.0 in c:\\users\\mxnojbe\\anaconda3\\lib\\site-packages (from fastf1) (1.3.4)\n",
      "Requirement already satisfied: requests in c:\\users\\mxnojbe\\anaconda3\\lib\\site-packages (from fastf1) (2.26.0)\n",
      "Requirement already satisfied: timple>=0.1.2 in c:\\users\\mxnojbe\\anaconda3\\lib\\site-packages (from fastf1) (0.1.5)\n",
      "Requirement already satisfied: thefuzz in c:\\users\\mxnojbe\\anaconda3\\lib\\site-packages (from fastf1) (0.19.0)\n",
      "Requirement already satisfied: pillow>=6.2.0 in c:\\users\\mxnojbe\\anaconda3\\lib\\site-packages (from matplotlib>=3.3.3->fastf1) (8.4.0)\n",
      "Requirement already satisfied: pyparsing>=2.2.1 in c:\\users\\mxnojbe\\anaconda3\\lib\\site-packages (from matplotlib>=3.3.3->fastf1) (3.0.4)\n",
      "Requirement already satisfied: python-dateutil>=2.7 in c:\\users\\mxnojbe\\anaconda3\\lib\\site-packages (from matplotlib>=3.3.3->fastf1) (2.8.2)\n",
      "Requirement already satisfied: cycler>=0.10 in c:\\users\\mxnojbe\\anaconda3\\lib\\site-packages (from matplotlib>=3.3.3->fastf1) (0.10.0)\n",
      "Requirement already satisfied: kiwisolver>=1.0.1 in c:\\users\\mxnojbe\\anaconda3\\lib\\site-packages (from matplotlib>=3.3.3->fastf1) (1.3.1)\n",
      "Requirement already satisfied: six in c:\\users\\mxnojbe\\anaconda3\\lib\\site-packages (from cycler>=0.10->matplotlib>=3.3.3->fastf1) (1.16.0)\n",
      "Requirement already satisfied: pytz>=2017.3 in c:\\users\\mxnojbe\\anaconda3\\lib\\site-packages (from pandas>=1.1.0->fastf1) (2021.3)\n",
      "Requirement already satisfied: cattrs>=1.8 in c:\\users\\mxnojbe\\anaconda3\\lib\\site-packages (from requests-cache>=0.8.0->fastf1) (22.1.0)\n",
      "Requirement already satisfied: appdirs>=1.4.4 in c:\\users\\mxnojbe\\anaconda3\\lib\\site-packages (from requests-cache>=0.8.0->fastf1) (1.4.4)\n",
      "Requirement already satisfied: url-normalize>=1.4 in c:\\users\\mxnojbe\\anaconda3\\lib\\site-packages (from requests-cache>=0.8.0->fastf1) (1.4.3)\n",
      "Requirement already satisfied: attrs>=21.2 in c:\\users\\mxnojbe\\anaconda3\\lib\\site-packages (from requests-cache>=0.8.0->fastf1) (21.2.0)\n",
      "Requirement already satisfied: urllib3>=1.25.5 in c:\\users\\mxnojbe\\anaconda3\\lib\\site-packages (from requests-cache>=0.8.0->fastf1) (1.26.7)\n",
      "Requirement already satisfied: exceptiongroup in c:\\users\\mxnojbe\\anaconda3\\lib\\site-packages (from cattrs>=1.8->requests-cache>=0.8.0->fastf1) (1.0.0rc9)\n",
      "Requirement already satisfied: idna<4,>=2.5 in c:\\users\\mxnojbe\\anaconda3\\lib\\site-packages (from requests->fastf1) (3.2)\n",
      "Requirement already satisfied: charset-normalizer~=2.0.0 in c:\\users\\mxnojbe\\anaconda3\\lib\\site-packages (from requests->fastf1) (2.0.4)\n",
      "Requirement already satisfied: certifi>=2017.4.17 in c:\\users\\mxnojbe\\anaconda3\\lib\\site-packages (from requests->fastf1) (2021.10.8)\n",
      "Requirement already satisfied: websockets>=4.0.1 in c:\\users\\mxnojbe\\anaconda3\\lib\\site-packages (from signalr-client-aio->fastf1) (10.3)\n",
      "Note: you may need to restart the kernel to use updated packages.\n"
     ]
    }
   ],
   "source": [
    "ff1.cache = f1"
   ]
  },
  {
   "cell_type": "code",
   "execution_count": null,
   "metadata": {},
   "outputs": [],
   "source": []
  }
 ],
 "metadata": {
  "kernelspec": {
   "display_name": "Python 3 (ipykernel)",
   "language": "python",
   "name": "python3"
  },
  "language_info": {
   "codemirror_mode": {
    "name": "ipython",
    "version": 3
   },
   "file_extension": ".py",
   "mimetype": "text/x-python",
   "name": "python",
   "nbconvert_exporter": "python",
   "pygments_lexer": "ipython3",
   "version": "3.9.7"
  },
  "vscode": {
   "interpreter": {
    "hash": "9b1a011b9d1c127dcd8f1ca1e620a8fa5e47224c771ab39ca5a2bf52c6d8202c"
   }
  }
 },
 "nbformat": 4,
 "nbformat_minor": 2
}
